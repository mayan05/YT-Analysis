{
  "cells": [
    {
      "cell_type": "code",
      "execution_count": null,
      "metadata": {
        "id": "j48tJmqLq6jI"
      },
      "outputs": [],
      "source": [
        "import pandas as pd\n",
        "import numpy as np"
      ]
    },
    {
      "cell_type": "code",
      "execution_count": null,
      "metadata": {
        "id": "6S_02jA9q6jJ"
      },
      "outputs": [],
      "source": [
        "train_df = pd.read_csv(\"./twitter_training.csv\")\n",
        "val_df = pd.read_csv(\"./twitter_validation.csv\")"
      ]
    },
    {
      "cell_type": "code",
      "execution_count": null,
      "metadata": {
        "id": "wUqoWq3Kq6jJ",
        "outputId": "6fceadf1-b9c8-42dd-90be-56f009acd0cd"
      },
      "outputs": [
        {
          "data": {
            "text/plain": [
              "Index(['Sentiment', 'text'], dtype='object')"
            ]
          },
          "execution_count": 138,
          "metadata": {},
          "output_type": "execute_result"
        }
      ],
      "source": [
        "train_df.drop(columns=['2401', 'Borderlands'], inplace=True)\n",
        "\n",
        "train_df.rename(columns={\n",
        "    \"Positive\": \"Sentiment\",\n",
        "    train_df.columns[-1]: \"text\"\n",
        "}, inplace=True)\n",
        "\n",
        "train_df.columns\n"
      ]
    },
    {
      "cell_type": "code",
      "execution_count": null,
      "metadata": {
        "id": "AaA_sQphq6jK",
        "outputId": "2745b48f-bd07-407c-dce3-f9345a120a01"
      },
      "outputs": [
        {
          "data": {
            "text/plain": [
              "Sentiment\n",
              "Negative      22542\n",
              "Positive      20831\n",
              "Neutral       18318\n",
              "Irrelevant    12990\n",
              "Name: count, dtype: int64"
            ]
          },
          "execution_count": 139,
          "metadata": {},
          "output_type": "execute_result"
        }
      ],
      "source": [
        "train_df['Sentiment'].value_counts()"
      ]
    },
    {
      "cell_type": "code",
      "execution_count": null,
      "metadata": {
        "id": "1w3rcMlGq6jK",
        "outputId": "7e168e82-6f8f-48df-da01-5a6d0a95b770"
      },
      "outputs": [
        {
          "data": {
            "image/png": "[encoded data removed]",
            "text/plain": [
              "<Figure size 640x480 with 1 Axes>"
            ]
          },
          "metadata": {},
          "output_type": "display_data"
        }
      ],
      "source": [
        "import matplotlib.pyplot as plt\n",
        "import seaborn as sns\n",
        "\n",
        "sns.set_theme(style='darkgrid')\n",
        "sns.countplot(data = train_df, x='Sentiment', hue='Sentiment', palette='magma')\n",
        "plt.title('Number of Sentiments')\n",
        "plt.xlabel('Sentiments')\n",
        "plt.ylabel('Count')\n",
        "plt.show()"
      ]
    },
    {
      "cell_type": "code",
      "execution_count": null,
      "metadata": {
        "id": "u5QedgoOq6jL",
        "outputId": "268cbd0c-6554-4b97-808c-67e6e19222fe"
      },
      "outputs": [
        {
          "name": "stderr",
          "output_type": "stream",
          "text": [
            "C:\\Users\\mayan\\AppData\\Local\\Temp\\ipykernel_3596\\342415535.py:1: FutureWarning: Downcasting behavior in `replace` is deprecated and will be removed in a future version. To retain the old behavior, explicitly call `result.infer_objects(copy=False)`. To opt-in to the future behavior, set `pd.set_option('future.no_silent_downcasting', True)`\n",
            "  train_df['label'] = train_df['Sentiment'].replace({\n"
          ]
        }
      ],
      "source": [
        "train_df['label'] = train_df['Sentiment'].replace({\n",
        "    'Positive' : 3,\n",
        "    'Negative' : 2,\n",
        "    'Irrelevant' : 1,\n",
        "    'Neutral' : 0\n",
        "})\n",
        "\n",
        "train_df.drop(columns=['Sentiment'], inplace = True)"
      ]
    },
    {
      "cell_type": "code",
      "execution_count": null,
      "metadata": {
        "id": "-vvWMfNpq6jL",
        "outputId": "a7d7ce19-3d5a-4670-831b-493bb4b7a4fc"
      },
      "outputs": [
        {
          "data": {
            "text/html": [
              "<div>\n",
              "<style scoped>\n",
              "    .dataframe tbody tr th:only-of-type {\n",
              "        vertical-align: middle;\n",
              "    }\n",
              "\n",
              "    .dataframe tbody tr th {\n",
              "        vertical-align: top;\n",
              "    }\n",
              "\n",
              "    .dataframe thead th {\n",
              "        text-align: right;\n",
              "    }\n",
              "</style>\n",
              "<table border=\"1\" class=\"dataframe\">\n",
              "  <thead>\n",
              "    <tr style=\"text-align: right;\">\n",
              "      <th></th>\n",
              "      <th>text</th>\n",
              "      <th>label</th>\n",
              "    </tr>\n",
              "  </thead>\n",
              "  <tbody>\n",
              "    <tr>\n",
              "      <th>0</th>\n",
              "      <td>I am coming to the borders and I will kill you...</td>\n",
              "      <td>3</td>\n",
              "    </tr>\n",
              "    <tr>\n",
              "      <th>1</th>\n",
              "      <td>im getting on borderlands and i will kill you ...</td>\n",
              "      <td>3</td>\n",
              "    </tr>\n",
              "    <tr>\n",
              "      <th>2</th>\n",
              "      <td>im coming on borderlands and i will murder you...</td>\n",
              "      <td>3</td>\n",
              "    </tr>\n",
              "    <tr>\n",
              "      <th>3</th>\n",
              "      <td>im getting on borderlands 2 and i will murder ...</td>\n",
              "      <td>3</td>\n",
              "    </tr>\n",
              "    <tr>\n",
              "      <th>4</th>\n",
              "      <td>im getting into borderlands and i can murder y...</td>\n",
              "      <td>3</td>\n",
              "    </tr>\n",
              "  </tbody>\n",
              "</table>\n",
              "</div>"
            ],
            "text/plain": [
              "                                                text  label\n",
              "0  I am coming to the borders and I will kill you...      3\n",
              "1  im getting on borderlands and i will kill you ...      3\n",
              "2  im coming on borderlands and i will murder you...      3\n",
              "3  im getting on borderlands 2 and i will murder ...      3\n",
              "4  im getting into borderlands and i can murder y...      3"
            ]
          },
          "execution_count": 142,
          "metadata": {},
          "output_type": "execute_result"
        }
      ],
      "source": [
        "train_df.head()"
      ]
    },
    {
      "cell_type": "code",
      "execution_count": null,
      "metadata": {
        "id": "oOmH-_78q6jL",
        "outputId": "4003203e-39ea-4897-ca07-57456c4c8652"
      },
      "outputs": [
        {
          "name": "stderr",
          "output_type": "stream",
          "text": [
            "C:\\Users\\mayan\\AppData\\Local\\Temp\\ipykernel_3596\\3331837678.py:7: FutureWarning: Downcasting behavior in `replace` is deprecated and will be removed in a future version. To retain the old behavior, explicitly call `result.infer_objects(copy=False)`. To opt-in to the future behavior, set `pd.set_option('future.no_silent_downcasting', True)`\n",
            "  val_df['label'] = val_df['Sentiment'].replace({\n"
          ]
        }
      ],
      "source": [
        "val_df.drop(columns=['3364', 'Facebook'], inplace=True)\n",
        "val_df.rename(columns = {\n",
        "    'Irrelevant' : 'Sentiment',\n",
        "    val_df.columns[-1] : 'text'\n",
        "}, inplace=True)\n",
        "\n",
        "val_df['label'] = val_df['Sentiment'].replace({\n",
        "    'Positive' : 3,\n",
        "    'Negative' : 2,\n",
        "    'Irrelevant' : 1,\n",
        "    'Neutral' : 0\n",
        "})\n",
        "\n",
        "val_df.drop(columns=['Sentiment'], inplace=True)"
      ]
    },
    {
      "cell_type": "code",
      "execution_count": null,
      "metadata": {
        "id": "SsONQ4Ddq6jL",
        "outputId": "5cd8c338-8102-458f-cfe8-211c30d5d74b"
      },
      "outputs": [
        {
          "data": {
            "text/html": [
              "<div>\n",
              "<style scoped>\n",
              "    .dataframe tbody tr th:only-of-type {\n",
              "        vertical-align: middle;\n",
              "    }\n",
              "\n",
              "    .dataframe tbody tr th {\n",
              "        vertical-align: top;\n",
              "    }\n",
              "\n",
              "    .dataframe thead th {\n",
              "        text-align: right;\n",
              "    }\n",
              "</style>\n",
              "<table border=\"1\" class=\"dataframe\">\n",
              "  <thead>\n",
              "    <tr style=\"text-align: right;\">\n",
              "      <th></th>\n",
              "      <th>text</th>\n",
              "      <th>label</th>\n",
              "    </tr>\n",
              "  </thead>\n",
              "  <tbody>\n",
              "    <tr>\n",
              "      <th>0</th>\n",
              "      <td>BBC News - Amazon boss Jeff Bezos rejects clai...</td>\n",
              "      <td>0</td>\n",
              "    </tr>\n",
              "    <tr>\n",
              "      <th>1</th>\n",
              "      <td>@Microsoft Why do I pay for WORD when it funct...</td>\n",
              "      <td>2</td>\n",
              "    </tr>\n",
              "    <tr>\n",
              "      <th>2</th>\n",
              "      <td>CSGO matchmaking is so full of closet hacking,...</td>\n",
              "      <td>2</td>\n",
              "    </tr>\n",
              "    <tr>\n",
              "      <th>3</th>\n",
              "      <td>Now the President is slapping Americans in the...</td>\n",
              "      <td>0</td>\n",
              "    </tr>\n",
              "    <tr>\n",
              "      <th>4</th>\n",
              "      <td>Hi @EAHelp I’ve had Madeleine McCann in my cel...</td>\n",
              "      <td>2</td>\n",
              "    </tr>\n",
              "  </tbody>\n",
              "</table>\n",
              "</div>"
            ],
            "text/plain": [
              "                                                text  label\n",
              "0  BBC News - Amazon boss Jeff Bezos rejects clai...      0\n",
              "1  @Microsoft Why do I pay for WORD when it funct...      2\n",
              "2  CSGO matchmaking is so full of closet hacking,...      2\n",
              "3  Now the President is slapping Americans in the...      0\n",
              "4  Hi @EAHelp I’ve had Madeleine McCann in my cel...      2"
            ]
          },
          "execution_count": 144,
          "metadata": {},
          "output_type": "execute_result"
        }
      ],
      "source": [
        "val_df.head()"
      ]
    },
    {
      "cell_type": "code",
      "execution_count": null,
      "metadata": {
        "id": "kweFIpSsq6jM"
      },
      "outputs": [],
      "source": [
        "train_df[\"text\"] = train_df[\"text\"].astype(str)\n",
        "val_df[\"text\"] = val_df[\"text\"].astype(str)"
      ]
    },
    {
      "cell_type": "markdown",
      "metadata": {
        "id": "HLlLju4gq6jM"
      },
      "source": [
        "### Model TIME!!"
      ]
    },
    {
      "cell_type": "code",
      "execution_count": null,
      "metadata": {
        "id": "5KFoaBRoq6jN"
      },
      "outputs": [],
      "source": [
        "from sklearn.model_selection import train_test_split as tts\n",
        "\n",
        "train_df, test_df = tts(train_df, test_size=0.2, random_state=42)"
      ]
    },
    {
      "cell_type": "code",
      "execution_count": null,
      "metadata": {
        "id": "BpnoHszWq6jN"
      },
      "outputs": [],
      "source": [
        "size=4"
      ]
    },
    {
      "cell_type": "code",
      "execution_count": null,
      "metadata": {
        "id": "z37gWjNWq6jN"
      },
      "outputs": [],
      "source": [
        "from transformers import BertTokenizerFast, TFBertForSequenceClassification, AdamWeightDecay\n",
        "import tensorflow as tf\n",
        "\n",
        "tokenizer = BertTokenizerFast.from_pretrained(\"bert-base-uncased\")\n",
        "\n",
        "# Fix: Convert to list explicitly\n",
        "train_encodings = tokenizer(train_df[\"text\"].tolist(), truncation=True, padding=True)\n",
        "val_encodings = tokenizer(val_df[\"text\"].tolist(), truncation=True, padding=True)\n",
        "\n",
        "\n",
        "# Convert to tf.data.Dataset\n",
        "train_df = tf.data.Dataset.from_tensor_slices((\n",
        "    {\n",
        "        \"input_ids\": train_encodings[\"input_ids\"],\n",
        "        \"attention_mask\": train_encodings[\"attention_mask\"]\n",
        "    },\n",
        "    list(train_df[\"label\"])\n",
        ")).batch(size)\n",
        "\n",
        "val_df = tf.data.Dataset.from_tensor_slices((\n",
        "    {\n",
        "        \"input_ids\": val_encodings[\"input_ids\"],\n",
        "        \"attention_mask\": val_encodings[\"attention_mask\"]\n",
        "    },\n",
        "    list(val_df[\"label\"])\n",
        ")).batch(size)"
      ]
    },
    {
      "cell_type": "code",
      "execution_count": null,
      "metadata": {
        "id": "dhCJxXATq6jN"
      },
      "outputs": [],
      "source": [
        "from tensorflow.keras.losses import SparseCategoricalCrossentropy\n",
        "\n",
        "# Load the model\n",
        "model = TFBertForSequenceClassification.from_pretrained(\"bert-base-uncased\", num_labels=4)\n",
        "\n",
        "# Use AdamWeightDecay optimizer\n",
        "optimizer = AdamWeightDecay(learning_rate=3e-5, weight_decay_rate=0.001)\n",
        "\n",
        "# Loss function\n",
        "loss_fn = SparseCategoricalCrossentropy(from_logits=True)\n",
        "\n",
        "# Compile the model\n",
        "model.compile(optimizer=optimizer, loss=loss_fn, metrics=[\"accuracy\"])"
      ]
    },
    {
      "cell_type": "code",
      "source": [
        "from tensorflow.keras.callbacks import EarlyStopping\n",
        "\n",
        "early = EarlyStopping(\n",
        "    monitor = 'val_loss',\n",
        "    patience = 3,\n",
        "    restore_best_weights = True)"
      ],
      "metadata": {
        "id": "YZvfbJnAsPm9"
      },
      "execution_count": null,
      "outputs": []
    },
    {
      "cell_type": "code",
      "execution_count": null,
      "metadata": {
        "id": "JtSF5qY3q6jN"
      },
      "outputs": [],
      "source": [
        "model.fit(train_df,\n",
        "          batch_size=size,\n",
        "          validation_data=val_df,\n",
        "          epochs=3,\n",
        "          callbacks=[early])"
      ]
    }
  ],
  "metadata": {
    "kernelspec": {
      "display_name": "Python 3",
      "name": "python3"
    },
    "language_info": {
      "codemirror_mode": {
        "name": "ipython",
        "version": 3
      },
      "file_extension": ".py",
      "mimetype": "text/x-python",
      "name": "python",
      "nbconvert_exporter": "python",
      "pygments_lexer": "ipython3",
      "version": "3.12.4"
    },
    "colab": {
      "provenance": [],
      "gpuType": "T4"
    },
    "accelerator": "GPU"
  },
  "nbformat": 4,
  "nbformat_minor": 0
}