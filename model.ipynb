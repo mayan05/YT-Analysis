{
 "cells": [
  {
   "cell_type": "code",
   "execution_count": null,
   "metadata": {},
   "outputs": [],
   "source": [
    "import numpy as np\n",
    "import pandas as pd"
   ]
  },
  {
   "cell_type": "markdown",
   "metadata": {},
   "source": [
    "Cleaning train dataset"
   ]
  },
  {
   "cell_type": "code",
   "execution_count": null,
   "metadata": {},
   "outputs": [],
   "source": [
    "train_df = pd.read_csv(\"./twitter_training.csv\")\n",
    "absurd = train_df.columns[3]\n",
    "\n",
    "train_df.rename(columns = {\n",
    "    'Positive' : 'Label',\n",
    "    absurd : 'text'\n",
    "}, inplace=True)\n",
    "\n",
    "train_df.drop(columns=['Borderlands', '2401'], inplace=True)\n",
    "train_df.head()"
   ]
  },
  {
   "cell_type": "code",
   "execution_count": null,
   "metadata": {},
   "outputs": [],
   "source": [
    "train_df['Label'].value_counts()"
   ]
  },
  {
   "cell_type": "code",
   "execution_count": null,
   "metadata": {},
   "outputs": [],
   "source": [
    "print(f\"Null Rows:\\n{train_df.isnull().sum()}\\n\")\n",
    "print(f\"Duplicated Rows: {int(train_df.duplicated().sum())}\")\n"
   ]
  },
  {
   "cell_type": "code",
   "execution_count": null,
   "metadata": {},
   "outputs": [],
   "source": [
    "print(\"Percentage of Empty and duplicated rows: \", round(\n",
    "    int(train_df.isnull().sum()['text'] + train_df.duplicated().sum()) * 100 / len(train_df),\n",
    "    3), \"%\")\n"
   ]
  },
  {
   "cell_type": "markdown",
   "metadata": {},
   "source": [
    "#### Since the empty and duplicated needs to be delt with, we shall drop it"
   ]
  },
  {
   "cell_type": "code",
   "execution_count": null,
   "metadata": {},
   "outputs": [],
   "source": [
    "train_df.dropna(inplace=True)\n",
    "train_df.drop_duplicates(inplace=True)"
   ]
  },
  {
   "cell_type": "code",
   "execution_count": null,
   "metadata": {},
   "outputs": [],
   "source": [
    "import matplotlib.pyplot as plt\n",
    "import seaborn as sns\n",
    "\n",
    "sns.set_theme(style = 'darkgrid')\n",
    "sns.countplot(data = train_df, x=train_df['Label'], hue=train_df['Label'], palette='magma')\n",
    "plt.title('Label Count')\n",
    "plt.ylabel('Count')\n",
    "plt.xlabel('Labels')\n",
    "plt.show()"
   ]
  },
  {
   "cell_type": "markdown",
   "metadata": {},
   "source": [
    "#### Encoding the Labels"
   ]
  },
  {
   "cell_type": "code",
   "execution_count": null,
   "metadata": {},
   "outputs": [],
   "source": [
    "train_df['Sentiment'] = train_df['Label'].replace({\n",
    "    'Irrelevant' : 0,\n",
    "    'Neutral' : 1,\n",
    "    'Negative' : 2,\n",
    "    'Positive' : 3 \n",
    "})\n",
    "train_df.drop(columns='Label', inplace=True)\n",
    "train_df.head()"
   ]
  },
  {
   "cell_type": "markdown",
   "metadata": {},
   "source": [
    "Cleaning validation dataset"
   ]
  },
  {
   "cell_type": "code",
   "execution_count": null,
   "metadata": {},
   "outputs": [],
   "source": [
    "val_df = pd.read_csv('./twitter_validation.csv')\n",
    "absurd2 = val_df.columns[3]\n",
    "val_df.rename(columns = {\n",
    "    'Irrelevant' : 'Label',\n",
    "    absurd2 : 'text'\n",
    "}, inplace=True)\n",
    "val_df.drop(columns=['Facebook', '3364'], inplace=True)\n",
    "val_df['Sentiment'] = val_df['Label'].replace({\n",
    "    'Irrelevant' : 0,\n",
    "    'Neutral' : 1,\n",
    "    'Negative' : 2,\n",
    "    'Positive' : 3 \n",
    "})\n",
    "val_df.drop(columns='Label', inplace=True)\n",
    "val_df.head()"
   ]
  },
  {
   "cell_type": "code",
   "execution_count": null,
   "metadata": {},
   "outputs": [],
   "source": [
    "val_df.duplicated().sum()"
   ]
  },
  {
   "cell_type": "code",
   "execution_count": null,
   "metadata": {},
   "outputs": [],
   "source": [
    "val_df.isnull().sum()"
   ]
  },
  {
   "cell_type": "code",
   "execution_count": null,
   "metadata": {},
   "outputs": [],
   "source": [
    "val_df.shape"
   ]
  },
  {
   "cell_type": "markdown",
   "metadata": {},
   "source": [
    "# MODEL TIME!!!"
   ]
  },
  {
   "cell_type": "code",
   "execution_count": null,
   "metadata": {},
   "outputs": [],
   "source": [
    "# Import necessary libraries\n",
    "from transformers import TFBertForSequenceClassification, BertTokenizerFast, AdamWeightDecay\n",
    "import tensorflow as tf"
   ]
  },
  {
   "cell_type": "code",
   "execution_count": null,
   "metadata": {},
   "outputs": [],
   "source": [
    "size = 8"
   ]
  },
  {
   "cell_type": "code",
   "execution_count": null,
   "metadata": {},
   "outputs": [],
   "source": [
    "# Initialize the tokenizer\n",
    "tokenizer = BertTokenizerFast.from_pretrained(\"bert-base-uncased\")"
   ]
  },
  {
   "cell_type": "code",
   "execution_count": null,
   "metadata": {},
   "outputs": [],
   "source": [
    "from transformers import BertTokenizerFast\n",
    "import tensorflow as tf\n",
    "\n",
    "tokenizer = BertTokenizerFast.from_pretrained(\"bert-base-uncased\")\n",
    "\n",
    "# Tokenize texts\n",
    "train_encodings = tokenizer(list(train_df[\"text\"]), truncation=True, padding=True)\n",
    "val_encodings = tokenizer(list(val_df[\"text\"]), truncation=True, padding=True)\n",
    "\n",
    "# Convert to tf.data.Dataset\n",
    "train_df = tf.data.Dataset.from_tensor_slices((\n",
    "    {\n",
    "        \"input_ids\": train_encodings[\"input_ids\"],\n",
    "        \"attention_mask\": train_encodings[\"attention_mask\"]\n",
    "    },\n",
    "    list(train_df[\"Sentiment\"])\n",
    ")).batch(size)\n",
    "\n",
    "val_df = tf.data.Dataset.from_tensor_slices((\n",
    "    {\n",
    "        \"input_ids\": val_encodings[\"input_ids\"],\n",
    "        \"attention_mask\": val_encodings[\"attention_mask\"]\n",
    "    },\n",
    "    list(val_df[\"Sentiment\"])\n",
    ")).batch(size)\n"
   ]
  },
  {
   "cell_type": "code",
   "execution_count": null,
   "metadata": {},
   "outputs": [],
   "source": [
    "# Load the model\n",
    "model = TFBertForSequenceClassification.from_pretrained(\"bert-base-uncased\", num_labels=4)\n",
    "\n",
    "# Use AdamWeightDecay optimizer\n",
    "optimizer = AdamWeightDecay(learning_rate=3e-5, weight_decay_rate=0.01)\n",
    "\n",
    "# Loss function\n",
    "loss_fn = tf.keras.losses.SparseCategoricalCrossentropy(from_logits=True)\n",
    "\n",
    "# Compile the model\n",
    "model.compile(optimizer=optimizer, loss=loss_fn, metrics=[\"accuracy\"])\n"
   ]
  },
  {
   "cell_type": "code",
   "execution_count": null,
   "metadata": {},
   "outputs": [],
   "source": [
    "# Train the model\n",
    "model.fit(\n",
    "    train_df,\n",
    "    validation_data=val_df,\n",
    "    epochs=3\n",
    ")"
   ]
  },
  {
   "cell_type": "code",
   "execution_count": null,
   "metadata": {},
   "outputs": [],
   "source": [
    "# Assuming `val_df` is your validation dataset\n",
    "# Evaluate the model\n",
    "loss, accuracy = model.evaluate(val_df)\n",
    "\n",
    "print(f\"Validation Loss: {loss}\")\n",
    "print(f\"Validation Accuracy: {accuracy}\")"
   ]
  },
  {
   "cell_type": "code",
   "execution_count": null,
   "metadata": {},
   "outputs": [],
   "source": [
    "model.save('./Analyser')"
   ]
  }
 ],
 "metadata": {
  "kernelspec": {
   "display_name": "Python 3",
   "language": "python",
   "name": "python3"
  },
  "language_info": {
   "codemirror_mode": {
    "name": "ipython",
    "version": 3
   },
   "file_extension": ".py",
   "mimetype": "text/x-python",
   "name": "python",
   "nbconvert_exporter": "python",
   "pygments_lexer": "ipython3",
   "version": "3.13.2"
  }
 },
 "nbformat": 4,
 "nbformat_minor": 2
}
